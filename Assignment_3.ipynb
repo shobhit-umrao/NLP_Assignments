{
  "nbformat": 4,
  "nbformat_minor": 0,
  "metadata": {
    "colab": {
      "name": "Copy of Assignment_3",
      "provenance": [],
      "include_colab_link": true
    },
    "kernelspec": {
      "name": "python3",
      "display_name": "Python 3"
    }
  },
  "cells": [
    {
      "cell_type": "markdown",
      "metadata": {
        "id": "view-in-github",
        "colab_type": "text"
      },
      "source": [
        "<a href=\"https://colab.research.google.com/github/shobhit-umrao/NLP_Assignments/blob/master/Assignment_3.ipynb\" target=\"_parent\"><img src=\"https://colab.research.google.com/assets/colab-badge.svg\" alt=\"Open In Colab\"/></a>"
      ]
    },
    {
      "cell_type": "code",
      "metadata": {
        "id": "OEyFoH2aVZbe",
        "colab_type": "code",
        "colab": {}
      },
      "source": [
        "# **Sentimental Analysis for Rhea Chakraborty tweets**"
      ],
      "execution_count": 1,
      "outputs": []
    },
    {
      "cell_type": "code",
      "metadata": {
        "id": "dTX-YzIpVmNi",
        "colab_type": "code",
        "colab": {
          "base_uri": "https://localhost:8080/",
          "height": 67
        },
        "outputId": "a751af49-7fc4-4b5f-8914-2488c2a4a0ad"
      },
      "source": [
        "pip install -U textblob"
      ],
      "execution_count": 2,
      "outputs": [
        {
          "output_type": "stream",
          "text": [
            "Requirement already up-to-date: textblob in /usr/local/lib/python3.6/dist-packages (0.15.3)\n",
            "Requirement already satisfied, skipping upgrade: nltk>=3.1 in /usr/local/lib/python3.6/dist-packages (from textblob) (3.2.5)\n",
            "Requirement already satisfied, skipping upgrade: six in /usr/local/lib/python3.6/dist-packages (from nltk>=3.1->textblob) (1.15.0)\n"
          ],
          "name": "stdout"
        }
      ]
    },
    {
      "cell_type": "code",
      "metadata": {
        "id": "54iRH7gRVsxB",
        "colab_type": "code",
        "colab": {
          "base_uri": "https://localhost:8080/",
          "height": 168
        },
        "outputId": "100380ec-4d22-464d-ff03-bb1b92de119e"
      },
      "source": [
        "pip install GetOldTweets3"
      ],
      "execution_count": 3,
      "outputs": [
        {
          "output_type": "stream",
          "text": [
            "Collecting GetOldTweets3\n",
            "  Downloading https://files.pythonhosted.org/packages/ed/f4/a00c2a7c90801abc875325bb5416ce9090ac86d06a00cc887131bd73ba45/GetOldTweets3-0.0.11-py3-none-any.whl\n",
            "Collecting pyquery>=1.2.10\n",
            "  Downloading https://files.pythonhosted.org/packages/78/43/95d42e386c61cb639d1a0b94f0c0b9f0b7d6b981ad3c043a836c8b5bc68b/pyquery-1.4.1-py2.py3-none-any.whl\n",
            "Requirement already satisfied: lxml>=3.5.0 in /usr/local/lib/python3.6/dist-packages (from GetOldTweets3) (4.2.6)\n",
            "Collecting cssselect>0.7.9\n",
            "  Downloading https://files.pythonhosted.org/packages/3b/d4/3b5c17f00cce85b9a1e6f91096e1cc8e8ede2e1be8e96b87ce1ed09e92c5/cssselect-1.1.0-py2.py3-none-any.whl\n",
            "Installing collected packages: cssselect, pyquery, GetOldTweets3\n",
            "Successfully installed GetOldTweets3-0.0.11 cssselect-1.1.0 pyquery-1.4.1\n"
          ],
          "name": "stdout"
        }
      ]
    },
    {
      "cell_type": "code",
      "metadata": {
        "id": "lOuCy54pVzUT",
        "colab_type": "code",
        "colab": {}
      },
      "source": [
        "import re \n",
        "from textblob import TextBlob \n",
        "import GetOldTweets3 as got\n",
        "from matplotlib import pyplot as plt\n"
      ],
      "execution_count": 4,
      "outputs": []
    },
    {
      "cell_type": "code",
      "metadata": {
        "id": "x0EbcVvvVzen",
        "colab_type": "code",
        "colab": {}
      },
      "source": [
        " def clean_tweet(tweet): \n",
        "        return ' '.join(re.sub(\"(@[A-Za-z0-9]+)|([^0-9A-Za-z \\t]) |(\\w+:\\/\\/\\S+)\", \" \", tweet).split()) "
      ],
      "execution_count": 5,
      "outputs": []
    },
    {
      "cell_type": "code",
      "metadata": {
        "id": "g7Whku4QV6FU",
        "colab_type": "code",
        "colab": {}
      },
      "source": [
        "tweetCriteria = got.manager.TweetCriteria().setQuerySearch('Rhea')\\\n",
        "                                           .setSince(\"2020-04-15\")\\\n",
        "                                           .setUntil(\"2020-07-30\")\\\n",
        "                                           .setMaxTweets(100)\n",
        "tweet = got.manager.TweetManager.getTweets(tweetCriteria)"
      ],
      "execution_count": 6,
      "outputs": []
    },
    {
      "cell_type": "code",
      "metadata": {
        "id": "oLGNVjLnV6Ip",
        "colab_type": "code",
        "colab": {}
      },
      "source": [
        "def get_tweet_sentiment(tweet): \n",
        "        \n",
        "        analysis = TextBlob(clean_tweet(tweet)) \n",
        "\n",
        "        if analysis.sentiment.polarity > 0: \n",
        "            return 'positive'\n",
        "        elif analysis.sentiment.polarity == 0: \n",
        "            return 'neutral'\n",
        "        else: \n",
        "            return 'negative'"
      ],
      "execution_count": 7,
      "outputs": []
    },
    {
      "cell_type": "code",
      "metadata": {
        "id": "6ICm6ZePV6LF",
        "colab_type": "code",
        "colab": {}
      },
      "source": [
        "tweets=[]\n",
        "for tw in tweet: \n",
        "\n",
        "  parsed_tweet = {}\n",
        "  parsed_tweet['text'] = tw.text \n",
        "  parsed_tweet['sentiment'] =get_tweet_sentiment(tw.text) \n",
        "  if tw.retweets > 0: \n",
        "    if parsed_tweet not in tweets: \n",
        "      tweets.append(parsed_tweet) \n",
        "    else:\n",
        "      tweets.append(parsed_tweet)"
      ],
      "execution_count": 8,
      "outputs": []
    },
    {
      "cell_type": "code",
      "metadata": {
        "id": "4sNae-_SV6OB",
        "colab_type": "code",
        "colab": {}
      },
      "source": [
        "pive_tweets = [tweet for tweet in tweets if tweet['sentiment'] == 'positive']\n",
        "nive_tweets = [tweet for tweet in tweets if tweet['sentiment'] == 'negative']\n",
        "neutral_tweets=[tweet for tweet in tweets if tweet['sentiment']=='neutral']\n",
        "per_ptweets=len(pive_tweets)/len(tweets)*100\n",
        "per_ntweets=len(nive_tweets)/len(tweets)*100\n",
        "per_neutral=len(neutral_tweets)/len(tweets)*100\n",
        "lab=['Positive','Negative','Neutral']\n",
        "data=[per_ptweets,per_ntweets,per_neutral]\n"
      ],
      "execution_count": 9,
      "outputs": []
    },
    {
      "cell_type": "code",
      "metadata": {
        "id": "-3evb6gTWD0_",
        "colab_type": "code",
        "colab": {
          "base_uri": "https://localhost:8080/",
          "height": 411
        },
        "outputId": "0c416458-e413-43b6-dad6-85cfdaa72e83"
      },
      "source": [
        "fig = plt.figure(figsize =(10, 7)) \n",
        "plt.pie(data, labels = lab) \n",
        "plt.show()"
      ],
      "execution_count": 10,
      "outputs": [
        {
          "output_type": "display_data",
          "data": {
            "image/png": "[encoded data removed]",
            "text/plain": [
              "<Figure size 720x504 with 1 Axes>"
            ]
          },
          "metadata": {
            "tags": []
          }
        }
      ]
    },
    {
      "cell_type": "code",
      "metadata": {
        "id": "VQebUbRNWHEd",
        "colab_type": "code",
        "colab": {}
      },
      "source": [
        "tweetCriteria = got.manager.TweetCriteria().setQuerySearch('Rhea')\\\n",
        "                                           .setSince(\"2020-08-01\")\\\n",
        "                                           .setUntil(\"2020-09-05\")\\\n",
        "                                           .setMaxTweets(100)\n",
        "tweet = got.manager.TweetManager.getTweets(tweetCriteria)"
      ],
      "execution_count": 11,
      "outputs": []
    },
    {
      "cell_type": "code",
      "metadata": {
        "id": "Z1CYjPp2WKQt",
        "colab_type": "code",
        "colab": {}
      },
      "source": [
        "tweets=[]\n",
        "for tw in tweet: \n",
        "\n",
        "  parsed_tweet = {}\n",
        "  parsed_tweet['text'] = tw.text \n",
        "  parsed_tweet['sentiment'] =get_tweet_sentiment(tw.text) \n",
        "  if tw.retweets > 0: \n",
        "    if parsed_tweet not in tweets: \n",
        "      tweets.append(parsed_tweet) \n",
        "    else:\n",
        "      tweets.append(parsed_tweet)"
      ],
      "execution_count": 12,
      "outputs": []
    },
    {
      "cell_type": "code",
      "metadata": {
        "id": "ImW_tNC0WKYn",
        "colab_type": "code",
        "colab": {}
      },
      "source": [
        "pive_tweets = [tweet for tweet in tweets if tweet['sentiment'] == 'positive']\n",
        "nive_tweets = [tweet for tweet in tweets if tweet['sentiment'] == 'negative']\n",
        "neutral_tweets=[tweet for tweet in tweets if tweet['sentiment']=='neutral']\n",
        "per_ptweets=len(pive_tweets)/len(tweets)*100\n",
        "per_ntweets=len(nive_tweets)/len(tweets)*100\n",
        "per_neutral=len(neutral_tweets)/len(tweets)*100\n",
        "lab=['Positive','Negative','Neutral']\n",
        "data=[per_ptweets,per_ntweets,per_neutral]"
      ],
      "execution_count": 13,
      "outputs": []
    },
    {
      "cell_type": "code",
      "metadata": {
        "id": "NOubWLfVWKdX",
        "colab_type": "code",
        "colab": {
          "base_uri": "https://localhost:8080/",
          "height": 411
        },
        "outputId": "71e59215-288d-4309-a3ce-71182171718f"
      },
      "source": [
        "fig = plt.figure(figsize =(10, 7)) \n",
        "plt.pie(data, labels = lab) \n",
        "plt.show()"
      ],
      "execution_count": 14,
      "outputs": [
        {
          "output_type": "display_data",
          "data": {
            "image/png": "[encoded data removed]",
            "text/plain": [
              "<Figure size 720x504 with 1 Axes>"
            ]
          },
          "metadata": {
            "tags": []
          }
        }
      ]
    },
    {
      "cell_type": "code",
      "metadata": {
        "id": "zl_ZJYi8Db2A",
        "colab_type": "code",
        "colab": {}
      },
      "source": [
        ""
      ],
      "execution_count": null,
      "outputs": []
    }
  ]
}