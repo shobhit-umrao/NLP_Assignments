{
  "nbformat": 4,
  "nbformat_minor": 0,
  "metadata": {
    "colab": {
      "name": "Assignment_1.ipynb",
      "provenance": [],
      "authorship_tag": "ABX9TyP2hEIZUPMVA2KRs3281uyT",
      "include_colab_link": true
    },
    "kernelspec": {
      "name": "python3",
      "display_name": "Python 3"
    }
  },
  "cells": [
    {
      "cell_type": "markdown",
      "metadata": {
        "id": "view-in-github",
        "colab_type": "text"
      },
      "source": [
        "<a href=\"https://colab.research.google.com/github/shobhit-umrao/NLP_Assignments/blob/master/Assignment_1.ipynb\" target=\"_parent\"><img src=\"https://colab.research.google.com/assets/colab-badge.svg\" alt=\"Open In Colab\"/></a>"
      ]
    },
    {
      "cell_type": "code",
      "metadata": {
        "id": "XGyfyMr5SQDY",
        "colab_type": "code",
        "colab": {}
      },
      "source": [
        "import nltk"
      ],
      "execution_count": null,
      "outputs": []
    },
    {
      "cell_type": "code",
      "metadata": {
        "id": "XsiyytdESTt5",
        "colab_type": "code",
        "colab": {
          "base_uri": "https://localhost:8080/",
          "height": 806
        },
        "outputId": "f597931d-6b41-402b-99b3-15ab312c859a"
      },
      "source": [
        "nltk.download(\"popular\")\n"
      ],
      "execution_count": null,
      "outputs": [
        {
          "output_type": "stream",
          "text": [
            "[nltk_data] Downloading collection 'popular'\n",
            "[nltk_data]    | \n",
            "[nltk_data]    | Downloading package cmudict to /root/nltk_data...\n",
            "[nltk_data]    |   Unzipping corpora/cmudict.zip.\n",
            "[nltk_data]    | Downloading package gazetteers to /root/nltk_data...\n",
            "[nltk_data]    |   Unzipping corpora/gazetteers.zip.\n",
            "[nltk_data]    | Downloading package genesis to /root/nltk_data...\n",
            "[nltk_data]    |   Unzipping corpora/genesis.zip.\n",
            "[nltk_data]    | Downloading package gutenberg to /root/nltk_data...\n",
            "[nltk_data]    |   Unzipping corpora/gutenberg.zip.\n",
            "[nltk_data]    | Downloading package inaugural to /root/nltk_data...\n",
            "[nltk_data]    |   Unzipping corpora/inaugural.zip.\n",
            "[nltk_data]    | Downloading package movie_reviews to\n",
            "[nltk_data]    |     /root/nltk_data...\n",
            "[nltk_data]    |   Unzipping corpora/movie_reviews.zip.\n",
            "[nltk_data]    | Downloading package names to /root/nltk_data...\n",
            "[nltk_data]    |   Unzipping corpora/names.zip.\n",
            "[nltk_data]    | Downloading package shakespeare to /root/nltk_data...\n",
            "[nltk_data]    |   Unzipping corpora/shakespeare.zip.\n",
            "[nltk_data]    | Downloading package stopwords to /root/nltk_data...\n",
            "[nltk_data]    |   Unzipping corpora/stopwords.zip.\n",
            "[nltk_data]    | Downloading package treebank to /root/nltk_data...\n",
            "[nltk_data]    |   Unzipping corpora/treebank.zip.\n",
            "[nltk_data]    | Downloading package twitter_samples to\n",
            "[nltk_data]    |     /root/nltk_data...\n",
            "[nltk_data]    |   Unzipping corpora/twitter_samples.zip.\n",
            "[nltk_data]    | Downloading package omw to /root/nltk_data...\n",
            "[nltk_data]    |   Unzipping corpora/omw.zip.\n",
            "[nltk_data]    | Downloading package wordnet to /root/nltk_data...\n",
            "[nltk_data]    |   Unzipping corpora/wordnet.zip.\n",
            "[nltk_data]    | Downloading package wordnet_ic to /root/nltk_data...\n",
            "[nltk_data]    |   Unzipping corpora/wordnet_ic.zip.\n",
            "[nltk_data]    | Downloading package words to /root/nltk_data...\n",
            "[nltk_data]    |   Unzipping corpora/words.zip.\n",
            "[nltk_data]    | Downloading package maxent_ne_chunker to\n",
            "[nltk_data]    |     /root/nltk_data...\n",
            "[nltk_data]    |   Unzipping chunkers/maxent_ne_chunker.zip.\n",
            "[nltk_data]    | Downloading package punkt to /root/nltk_data...\n",
            "[nltk_data]    |   Unzipping tokenizers/punkt.zip.\n",
            "[nltk_data]    | Downloading package snowball_data to\n",
            "[nltk_data]    |     /root/nltk_data...\n",
            "[nltk_data]    | Downloading package averaged_perceptron_tagger to\n",
            "[nltk_data]    |     /root/nltk_data...\n",
            "[nltk_data]    |   Unzipping taggers/averaged_perceptron_tagger.zip.\n",
            "[nltk_data]    | \n",
            "[nltk_data]  Done downloading collection popular\n"
          ],
          "name": "stdout"
        },
        {
          "output_type": "execute_result",
          "data": {
            "text/plain": [
              "True"
            ]
          },
          "metadata": {
            "tags": []
          },
          "execution_count": 2
        }
      ]
    },
    {
      "cell_type": "code",
      "metadata": {
        "id": "L_ECYP5YSfwW",
        "colab_type": "code",
        "colab": {
          "base_uri": "https://localhost:8080/",
          "height": 34
        },
        "outputId": "6201cebf-87ea-4c68-c1fd-50d7057b212b"
      },
      "source": [
        "#word toeknize\n",
        "from nltk.tokenize import word_tokenize as wt\n",
        "sample_text = \"Assignment 1, Submitted by Shobhit Umrao, CSE 17U02014\"\n",
        "print(wt(sample_text))"
      ],
      "execution_count": null,
      "outputs": [
        {
          "output_type": "stream",
          "text": [
            "['Assignment', '1', ',', 'Submitted', 'by', 'Shobhit', 'Umrao', ',', 'CSE', '17U02014']\n"
          ],
          "name": "stdout"
        }
      ]
    },
    {
      "cell_type": "code",
      "metadata": {
        "id": "sz2vZPupTLwt",
        "colab_type": "code",
        "colab": {
          "base_uri": "https://localhost:8080/",
          "height": 34
        },
        "outputId": "a4a94700-7fb1-4abd-aa5e-947cfd31c9d0"
      },
      "source": [
        "#Now sentence tokenisation \n",
        "from nltk.tokenize import sent_tokenize as st\n",
        "print(st(sample_text))"
      ],
      "execution_count": null,
      "outputs": [
        {
          "output_type": "stream",
          "text": [
            "['Assignment 1, Submitted by Shobhit Umrao, CSE 17U02014']\n"
          ],
          "name": "stdout"
        }
      ]
    },
    {
      "cell_type": "code",
      "metadata": {
        "id": "xMgx7JkQTjLm",
        "colab_type": "code",
        "colab": {
          "base_uri": "https://localhost:8080/",
          "height": 54
        },
        "outputId": "f4030b2c-23e1-4c41-f435-522338648ee1"
      },
      "source": [
        "#_stop words\n",
        "from nltk.corpus import stopwords as sw\n",
        "\n",
        "sample_para = \"A paragraph is a series of related sentences developing a central idea, called the topic. Try to think about paragraphs in terms of thematic unity: a paragraph is a sentence or a group of sentences that supports one central, unified idea. Paragraphs add one idea at a time to your broader argument.\"\n",
        "\n",
        "stop_words = set(sw.words('english'))\n",
        "\n",
        "word_tokens = wt(sample_para)\n",
        "\n",
        "filt_sentence = []\n",
        "\n",
        "for w in word_tokens:\n",
        "  if w not in stop_words:\n",
        "    filt_sentence.append(w)\n",
        "\n",
        "print(word_tokens)\n",
        "\n"
      ],
      "execution_count": null,
      "outputs": [
        {
          "output_type": "stream",
          "text": [
            "['A', 'paragraph', 'is', 'a', 'series', 'of', 'related', 'sentences', 'developing', 'a', 'central', 'idea', ',', 'called', 'the', 'topic', '.', 'Try', 'to', 'think', 'about', 'paragraphs', 'in', 'terms', 'of', 'thematic', 'unity', ':', 'a', 'paragraph', 'is', 'a', 'sentence', 'or', 'a', 'group', 'of', 'sentences', 'that', 'supports', 'one', 'central', ',', 'unified', 'idea', '.', 'Paragraphs', 'add', 'one', 'idea', 'at', 'a', 'time', 'to', 'your', 'broader', 'argument', '.']\n"
          ],
          "name": "stdout"
        }
      ]
    },
    {
      "cell_type": "code",
      "metadata": {
        "id": "PJQjxgb-VKNy",
        "colab_type": "code",
        "colab": {
          "base_uri": "https://localhost:8080/",
          "height": 54
        },
        "outputId": "5486b36c-5f8f-4af7-f9db-b52f81b13d86"
      },
      "source": [
        "print(filt_sentence)"
      ],
      "execution_count": null,
      "outputs": [
        {
          "output_type": "stream",
          "text": [
            "['A', 'paragraph', 'series', 'related', 'sentences', 'developing', 'central', 'idea', ',', 'called', 'topic', '.', 'Try', 'think', 'paragraphs', 'terms', 'thematic', 'unity', ':', 'paragraph', 'sentence', 'group', 'sentences', 'supports', 'one', 'central', ',', 'unified', 'idea', '.', 'Paragraphs', 'add', 'one', 'idea', 'time', 'broader', 'argument', '.']\n"
          ],
          "name": "stdout"
        }
      ]
    },
    {
      "cell_type": "code",
      "metadata": {
        "id": "40UkYSWnVM9U",
        "colab_type": "code",
        "colab": {
          "base_uri": "https://localhost:8080/",
          "height": 991
        },
        "outputId": "2429b8e7-5ad6-4c2a-83c3-1e5ff180afad"
      },
      "source": [
        "#_stemming\n",
        "\n",
        "from nltk.stem.porter import PorterStemmer\n",
        "\n",
        "ps = PorterStemmer()\n",
        "\n",
        "tokes = wt(sample_para)\n",
        "\n",
        "for w in tokes:\n",
        "  print((w, ps.stem(w)))"
      ],
      "execution_count": null,
      "outputs": [
        {
          "output_type": "stream",
          "text": [
            "('A', 'A')\n",
            "('paragraph', 'paragraph')\n",
            "('is', 'is')\n",
            "('a', 'a')\n",
            "('series', 'seri')\n",
            "('of', 'of')\n",
            "('related', 'relat')\n",
            "('sentences', 'sentenc')\n",
            "('developing', 'develop')\n",
            "('a', 'a')\n",
            "('central', 'central')\n",
            "('idea', 'idea')\n",
            "(',', ',')\n",
            "('called', 'call')\n",
            "('the', 'the')\n",
            "('topic', 'topic')\n",
            "('.', '.')\n",
            "('Try', 'tri')\n",
            "('to', 'to')\n",
            "('think', 'think')\n",
            "('about', 'about')\n",
            "('paragraphs', 'paragraph')\n",
            "('in', 'in')\n",
            "('terms', 'term')\n",
            "('of', 'of')\n",
            "('thematic', 'themat')\n",
            "('unity', 'uniti')\n",
            "(':', ':')\n",
            "('a', 'a')\n",
            "('paragraph', 'paragraph')\n",
            "('is', 'is')\n",
            "('a', 'a')\n",
            "('sentence', 'sentenc')\n",
            "('or', 'or')\n",
            "('a', 'a')\n",
            "('group', 'group')\n",
            "('of', 'of')\n",
            "('sentences', 'sentenc')\n",
            "('that', 'that')\n",
            "('supports', 'support')\n",
            "('one', 'one')\n",
            "('central', 'central')\n",
            "(',', ',')\n",
            "('unified', 'unifi')\n",
            "('idea', 'idea')\n",
            "('.', '.')\n",
            "('Paragraphs', 'paragraph')\n",
            "('add', 'add')\n",
            "('one', 'one')\n",
            "('idea', 'idea')\n",
            "('at', 'at')\n",
            "('a', 'a')\n",
            "('time', 'time')\n",
            "('to', 'to')\n",
            "('your', 'your')\n",
            "('broader', 'broader')\n",
            "('argument', 'argument')\n",
            "('.', '.')\n"
          ],
          "name": "stdout"
        }
      ]
    },
    {
      "cell_type": "code",
      "metadata": {
        "id": "g7tv8CFnXIZW",
        "colab_type": "code",
        "colab": {
          "base_uri": "https://localhost:8080/",
          "height": 991
        },
        "outputId": "0ca3f784-ebbe-4b76-8a84-0e2928590af9"
      },
      "source": [
        "#_word lemma\n",
        "from nltk.stem import WordNetLemmatizer\n",
        "\n",
        "wnl = WordNetLemmatizer()\n",
        "\n",
        "for w in tokes:\n",
        "  print((w, wnl.lemmatize(w)))"
      ],
      "execution_count": null,
      "outputs": [
        {
          "output_type": "stream",
          "text": [
            "('A', 'A')\n",
            "('paragraph', 'paragraph')\n",
            "('is', 'is')\n",
            "('a', 'a')\n",
            "('series', 'series')\n",
            "('of', 'of')\n",
            "('related', 'related')\n",
            "('sentences', 'sentence')\n",
            "('developing', 'developing')\n",
            "('a', 'a')\n",
            "('central', 'central')\n",
            "('idea', 'idea')\n",
            "(',', ',')\n",
            "('called', 'called')\n",
            "('the', 'the')\n",
            "('topic', 'topic')\n",
            "('.', '.')\n",
            "('Try', 'Try')\n",
            "('to', 'to')\n",
            "('think', 'think')\n",
            "('about', 'about')\n",
            "('paragraphs', 'paragraph')\n",
            "('in', 'in')\n",
            "('terms', 'term')\n",
            "('of', 'of')\n",
            "('thematic', 'thematic')\n",
            "('unity', 'unity')\n",
            "(':', ':')\n",
            "('a', 'a')\n",
            "('paragraph', 'paragraph')\n",
            "('is', 'is')\n",
            "('a', 'a')\n",
            "('sentence', 'sentence')\n",
            "('or', 'or')\n",
            "('a', 'a')\n",
            "('group', 'group')\n",
            "('of', 'of')\n",
            "('sentences', 'sentence')\n",
            "('that', 'that')\n",
            "('supports', 'support')\n",
            "('one', 'one')\n",
            "('central', 'central')\n",
            "(',', ',')\n",
            "('unified', 'unified')\n",
            "('idea', 'idea')\n",
            "('.', '.')\n",
            "('Paragraphs', 'Paragraphs')\n",
            "('add', 'add')\n",
            "('one', 'one')\n",
            "('idea', 'idea')\n",
            "('at', 'at')\n",
            "('a', 'a')\n",
            "('time', 'time')\n",
            "('to', 'to')\n",
            "('your', 'your')\n",
            "('broader', 'broader')\n",
            "('argument', 'argument')\n",
            "('.', '.')\n"
          ],
          "name": "stdout"
        }
      ]
    },
    {
      "cell_type": "code",
      "metadata": {
        "id": "Yu88PbCOYUjW",
        "colab_type": "code",
        "colab": {}
      },
      "source": [
        ""
      ],
      "execution_count": null,
      "outputs": []
    }
  ]
}